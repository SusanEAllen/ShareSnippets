{
 "cells": [
  {
   "cell_type": "markdown",
   "metadata": {},
   "source": [
    "Solve the transcendental function $\\omega^2 = g k \\tanh (kh)$"
   ]
  },
  {
   "cell_type": "code",
   "execution_count": 6,
   "metadata": {
    "collapsed": true
   },
   "outputs": [],
   "source": [
    "import matplotlib.pyplot as plt\n",
    "import numpy as np\n",
    "import sympy as sp\n",
    "\n",
    "%matplotlib inline"
   ]
  },
  {
   "cell_type": "code",
   "execution_count": 18,
   "metadata": {
    "collapsed": true
   },
   "outputs": [],
   "source": [
    "omega = np.arange(2*np.pi/100, 2*np.pi/10, 2*np.pi/100)   # waves up to 10s period"
   ]
  },
  {
   "cell_type": "code",
   "execution_count": 3,
   "metadata": {
    "collapsed": true
   },
   "outputs": [],
   "source": [
    "g = 9.8\n",
    "h = 0.5   # half meter depth"
   ]
  },
  {
   "cell_type": "code",
   "execution_count": 20,
   "metadata": {
    "collapsed": false
   },
   "outputs": [
    {
     "name": "stdout",
     "output_type": "stream",
     "text": [
      "0.13908423572114542\n",
      "0.06283185307179587 0.0283854908087553\n",
      "0.12566370614359174 0.0567766999009715\n",
      "0.1884955592153876 0.0851793497838349\n",
      "0.25132741228718347 0.113599171415924\n",
      "0.3141592653589793 0.142041908442745\n",
      "0.37699111843077515 0.17051332144406\n",
      "0.4398229715025711 0.199019192196887\n",
      "0.5026548245743669 0.227565327958045\n",
      "0.5654866776461628 0.256157565770045\n"
     ]
    }
   ],
   "source": [
    "kp = np.sqrt(g*h) * omega[0]                  #kp is a guess for the solver, this assumes the first one is small\n",
    "for w in omega:\n",
    "    w2 = w**2\n",
    "    kk = sp.Symbol('kk')                      \n",
    "    f1 = g * kk * sp.tanh(kk *h) - w2        # this is the function \n",
    "    k = sp.nsolve(f1, kk, kp)\n",
    "    print (w, k)\n",
    "    kp = k                                   # use the new value as the guess for the next one."
   ]
  }
 ],
 "metadata": {
  "kernelspec": {
   "display_name": "Python 3",
   "language": "python",
   "name": "python3"
  },
  "language_info": {
   "codemirror_mode": {
    "name": "ipython",
    "version": 3
   },
   "file_extension": ".py",
   "mimetype": "text/x-python",
   "name": "python",
   "nbconvert_exporter": "python",
   "pygments_lexer": "ipython3",
   "version": "3.6.5"
  }
 },
 "nbformat": 4,
 "nbformat_minor": 2
}
